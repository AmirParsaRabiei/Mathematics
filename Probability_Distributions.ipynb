{
 "cells": [
  {
   "cell_type": "markdown",
   "id": "09818f05",
   "metadata": {},
   "source": [
    "# Probability Distributions\n",
    "\n"
   ]
  },
  {
   "cell_type": "code",
   "execution_count": 14,
   "id": "9d0c4973",
   "metadata": {
    "tags": [
     "graded"
    ]
   },
   "outputs": [],
   "source": [
    "import numpy as np\n",
    "import pandas as pd\n",
    "import matplotlib.pyplot as plt\n",
    "from scipy.stats import uniform, binom, norm"
   ]
  },
  {
   "cell_type": "markdown",
   "id": "29c8a7f2",
   "metadata": {},
   "source": [
    "#  Generating Data from a Specific Distribution\n",
    "\n",
    "\n",
    "A random variable $X$ is a function that represents a random phenomenon, meaning its exact value cannot be determined. However, probabilities can be assigned to a set of possible values it can take. For example, if $X$ has a uniform distribution on $[2, 4]$, we cannot determine the exact value of $X$, but we can say with a probability of $1$ that the value lies between $[2, 4]$. We can also say that:\n",
    "\n",
    "$$P(X \\leq 3) = \\frac{1}{2}$$\n",
    "\n",
    "where $3$ is the midpoint of the interval $[2, 4]$. Therefore, you have learned that a random variable is associated with a function called the probability density function (pdf), which encodes the probability of the random variable falling within a given range. In other words, if $X$ is a continuous random variable and $f$ is its pdf, then:\n",
    "\n",
    "$$P(a \\leq X \\leq b) = \\text{Area of } f \\text{ between } a \\text{ and } b$$\n",
    "\n",
    "In the discrete case, $P(X = a) = f(a)$. In any case, $P(-\\infty < X < +\\infty) = 1$ because a random variable is assumed to output real numbers.\n",
    "\n",
    "\n",
    "So far in the course, you have encountered three common probability distributions:\n",
    "- Uniform\n",
    "- Binomial\n",
    "- Gaussian"
   ]
  },
  {
   "cell_type": "markdown",
   "id": "5917cb61",
   "metadata": {},
   "source": [
    "<img src=\"https://365datascience.com/resources/blog/2018-10-image1-7-1024x480.jpg\" alt=\"Alt Text\" height=\"400\">"
   ]
  },
  {
   "cell_type": "markdown",
   "id": "b86787fc",
   "metadata": {},
   "source": [
    "##  PDF for Distributions\n",
    "\n"
   ]
  },
  {
   "cell_type": "markdown",
   "id": "30569fed",
   "metadata": {},
   "source": [
    "###  Uniform PDF\n",
    "\n",
    "If $X \\sim \\text{Uniform}(a,b)$, then the PDF for $X$ is given by:\n",
    "\n",
    "\n",
    "$$f(x;a,b) = \n",
    "\\begin{cases}\n",
    "\\frac{1}{b-a}, \\quad \\text{if } x \\in [a,b]. \\\\\n",
    "0, \\quad \\text{otherwise.}\n",
    "\\end{cases}\n",
    "$$"
   ]
  },
  {
   "cell_type": "code",
   "execution_count": 15,
   "id": "4930247d",
   "metadata": {
    "tags": [
     "graded"
    ]
   },
   "outputs": [],
   "source": [
    "def pdf_uniform(x, a, b):\n",
    "    \"\"\"\n",
    "    Calculates the probability density function (PDF) for a uniform distribution between 'a' and 'b' at a given point 'x'.\n",
    "\n",
    "    Args:\n",
    "        x (float): The value at which the PDF is evaluated.\n",
    "        a (float): The lower bound of the uniform distribution.\n",
    "        b (float): The upper bound of the uniform distribution.\n",
    "\n",
    "    Returns:\n",
    "        float: The PDF value at the given point 'x'. Returns 0 if 'x' is outside the range [a, b].\n",
    "    \"\"\"\n",
    "    ### START CODE HERE ###\n",
    "    pdf = (0) if (x < a or x > b) else 1/(b-a)\n",
    "    ### END CODE HERE ###\n",
    "\n",
    "    return pdf"
   ]
  },
  {
   "cell_type": "code",
   "execution_count": 16,
   "id": "591644ac",
   "metadata": {},
   "outputs": [
    {
     "data": {
      "text/plain": [
       "0.16666666666666666"
      ]
     },
     "execution_count": 16,
     "metadata": {},
     "output_type": "execute_result"
    }
   ],
   "source": [
    "1/6"
   ]
  },
  {
   "cell_type": "code",
   "execution_count": 17,
   "id": "a2a8eb63",
   "metadata": {},
   "outputs": [
    {
     "name": "stdout",
     "output_type": "stream",
     "text": [
      "[-8.00000000e+00 -7.90000000e+00 -7.80000000e+00 -7.70000000e+00\n",
      " -7.60000000e+00 -7.50000000e+00 -7.40000000e+00 -7.30000000e+00\n",
      " -7.20000000e+00 -7.10000000e+00 -7.00000000e+00 -6.90000000e+00\n",
      " -6.80000000e+00 -6.70000000e+00 -6.60000000e+00 -6.50000000e+00\n",
      " -6.40000000e+00 -6.30000000e+00 -6.20000000e+00 -6.10000000e+00\n",
      " -6.00000000e+00 -5.90000000e+00 -5.80000000e+00 -5.70000000e+00\n",
      " -5.60000000e+00 -5.50000000e+00 -5.40000000e+00 -5.30000000e+00\n",
      " -5.20000000e+00 -5.10000000e+00 -5.00000000e+00 -4.90000000e+00\n",
      " -4.80000000e+00 -4.70000000e+00 -4.60000000e+00 -4.50000000e+00\n",
      " -4.40000000e+00 -4.30000000e+00 -4.20000000e+00 -4.10000000e+00\n",
      " -4.00000000e+00 -3.90000000e+00 -3.80000000e+00 -3.70000000e+00\n",
      " -3.60000000e+00 -3.50000000e+00 -3.40000000e+00 -3.30000000e+00\n",
      " -3.20000000e+00 -3.10000000e+00 -3.00000000e+00 -2.90000000e+00\n",
      " -2.80000000e+00 -2.70000000e+00 -2.60000000e+00 -2.50000000e+00\n",
      " -2.40000000e+00 -2.30000000e+00 -2.20000000e+00 -2.10000000e+00\n",
      " -2.00000000e+00 -1.90000000e+00 -1.80000000e+00 -1.70000000e+00\n",
      " -1.60000000e+00 -1.50000000e+00 -1.40000000e+00 -1.30000000e+00\n",
      " -1.20000000e+00 -1.10000000e+00 -1.00000000e+00 -9.00000000e-01\n",
      " -8.00000000e-01 -7.00000000e-01 -6.00000000e-01 -5.00000000e-01\n",
      " -4.00000000e-01 -3.00000000e-01 -2.00000000e-01 -1.00000000e-01\n",
      " -2.84217094e-14  1.00000000e-01  2.00000000e-01  3.00000000e-01\n",
      "  4.00000000e-01  5.00000000e-01  6.00000000e-01  7.00000000e-01\n",
      "  8.00000000e-01  9.00000000e-01  1.00000000e+00  1.10000000e+00\n",
      "  1.20000000e+00  1.30000000e+00  1.40000000e+00  1.50000000e+00\n",
      "  1.60000000e+00  1.70000000e+00  1.80000000e+00  1.90000000e+00\n",
      "  2.00000000e+00  2.10000000e+00  2.20000000e+00  2.30000000e+00\n",
      "  2.40000000e+00  2.50000000e+00  2.60000000e+00  2.70000000e+00\n",
      "  2.80000000e+00  2.90000000e+00  3.00000000e+00  3.10000000e+00\n",
      "  3.20000000e+00  3.30000000e+00  3.40000000e+00  3.50000000e+00\n",
      "  3.60000000e+00  3.70000000e+00  3.80000000e+00  3.90000000e+00\n",
      "  4.00000000e+00  4.10000000e+00  4.20000000e+00  4.30000000e+00\n",
      "  4.40000000e+00  4.50000000e+00  4.60000000e+00  4.70000000e+00\n",
      "  4.80000000e+00  4.90000000e+00  5.00000000e+00  5.10000000e+00\n",
      "  5.20000000e+00  5.30000000e+00  5.40000000e+00  5.50000000e+00\n",
      "  5.60000000e+00  5.70000000e+00  5.80000000e+00  5.90000000e+00\n",
      "  6.00000000e+00  6.10000000e+00  6.20000000e+00  6.30000000e+00\n",
      "  6.40000000e+00  6.50000000e+00  6.60000000e+00  6.70000000e+00\n",
      "  6.80000000e+00  6.90000000e+00  7.00000000e+00  7.10000000e+00\n",
      "  7.20000000e+00  7.30000000e+00  7.40000000e+00  7.50000000e+00\n",
      "  7.60000000e+00  7.70000000e+00  7.80000000e+00  7.90000000e+00\n",
      "  8.00000000e+00  8.10000000e+00  8.20000000e+00  8.30000000e+00\n",
      "  8.40000000e+00  8.50000000e+00  8.60000000e+00  8.70000000e+00\n",
      "  8.80000000e+00  8.90000000e+00]\n"
     ]
    },
    {
     "data": {
      "text/plain": [
       "[<matplotlib.lines.Line2D at 0x7fb6c1b45640>]"
      ]
     },
     "execution_count": 17,
     "metadata": {},
     "output_type": "execute_result"
    },
    {
     "data": {
      "image/png": "[encoded data removed]",
      "text/plain": [
       "<Figure size 640x480 with 1 Axes>"
      ]
     },
     "metadata": {},
     "output_type": "display_data"
    }
   ],
   "source": [
    "xtest = np.arange(-8,9,0.1)\n",
    "print(xtest)\n",
    "ytest =[]\n",
    "for x in xtest:\n",
    "    ytest.append(pdf_uniform(x, -1, 1))\n",
    "plt.plot(xtest,ytest)"
   ]
  },
  {
   "cell_type": "code",
   "execution_count": 18,
   "id": "f894d948",
   "metadata": {
    "tags": [
     "graded"
    ]
   },
   "outputs": [
    {
     "name": "stdout",
     "output_type": "stream",
     "text": [
      "Uniform PDF with a=0 and b=5 for value 1e-10: 0.200\n",
      "Uniform PDF with a=20 and b=25 for value 5: 0.000\n",
      "Uniform PDF with a=2 and b=10 for value 5.4: 0.125\n"
     ]
    }
   ],
   "source": [
    "# Test your function\n",
    "\n",
    "print(f\"Uniform PDF with a={0} and b={5} for value {1e-10}: {pdf_uniform(1e-10, 0, 5):.3f}\")\n",
    "print(f\"Uniform PDF with a={20} and b={25} for value {5}: {pdf_uniform(5, 20, 25):.3f}\")\n",
    "print(f\"Uniform PDF with a={2} and b={10} for value {5.4}: {pdf_uniform(5.4, 2, 10):.3f}\")"
   ]
  },
  {
   "cell_type": "markdown",
   "id": "bd0bc5b7",
   "metadata": {},
   "source": [
    "### Gaussian PDF\n",
    "\n",
    "You will need to implement the PDF for the Gaussian Distribution. The PDF for $X$ if $X \\sim \\text{Normal}(\\mu,\\sigma)$ is given by:\n",
    "\n",
    "$$f(x;\\mu,\\sigma) = \\frac{1}{\\sigma \\sqrt{2 \\pi}} e^{-\\frac{1}{2}\\left(\\frac{x - \\mu}{\\sigma}\\right)^2}$$ "
   ]
  },
  {
   "cell_type": "code",
   "execution_count": 19,
   "id": "2be18fe6",
   "metadata": {
    "tags": [
     "graded"
    ]
   },
   "outputs": [],
   "source": [
    "def pdf_gaussian(x, mu, sigma):\n",
    "    \"\"\"\n",
    "    Calculate the probability density function (PDF) of a Gaussian distribution at a given value.\n",
    "\n",
    "    Args:\n",
    "        x (float or array-like): The value(s) at which to evaluate the PDF.\n",
    "        mu (float): The mean of the Gaussian distribution.\n",
    "        sigma (float): The standard deviation of the Gaussian distribution.\n",
    "\n",
    "    Returns:\n",
    "        float or ndarray: The PDF value(s) at the given point(s) x.\n",
    "    \"\"\"\n",
    "\n",
    "    ### START CODE HERE ###\n",
    "    coefficient = 1.0 / (sigma * np.sqrt(2 * np.pi))\n",
    "    exponent = -0.5 * ((x - mu) / sigma) ** 2\n",
    "    pdf = coefficient * np.exp(exponent)\n",
    "    ### END CODE HERE ###\n",
    "\n",
    "    return pdf"
   ]
  },
  {
   "cell_type": "code",
   "execution_count": 20,
   "id": "48ab3195",
   "metadata": {},
   "outputs": [
    {
     "data": {
      "text/plain": [
       "[<matplotlib.lines.Line2D at 0x7fb6c1baa330>]"
      ]
     },
     "execution_count": 20,
     "metadata": {},
     "output_type": "execute_result"
    },
    {
     "data": {
      "image/png": "[encoded data removed]",
      "text/plain": [
       "<Figure size 640x480 with 1 Axes>"
      ]
     },
     "metadata": {},
     "output_type": "display_data"
    }
   ],
   "source": [
    "xtest = np.arange(-8,12,0.1)\n",
    "xtest;\n",
    "ytest = pdf_gaussian(xtest, 5, .3)\n",
    "ytest2 = pdf_gaussian(xtest, 1, 2)\n",
    "\n",
    "plt.plot(xtest,ytest)\n",
    "plt.plot(xtest,ytest2)\n",
    "\n"
   ]
  },
  {
   "cell_type": "code",
   "execution_count": 21,
   "id": "32bb2b1e",
   "metadata": {
    "tags": [
     "graded"
    ]
   },
   "outputs": [
    {
     "name": "stdout",
     "output_type": "stream",
     "text": [
      "Gaussian PDF with mu=15 and sigma=5 for value 10: 0.048\n",
      "Gaussian PDF with mu=15 and sigma=5 for value 0: 0.001\n",
      "Gaussian PDF with mu=20 and sigma=0.5 for value 20: 0.798\n",
      "Gaussian PDF with mu=15 and sigma=5 for value 1: 0.002\n"
     ]
    }
   ],
   "source": [
    "# Test your function\n",
    "\n",
    "print(f\"Gaussian PDF with mu={15} and sigma={5} for value {10}: {pdf_gaussian(10, 15, 5):.3f}\")\n",
    "print(f\"Gaussian PDF with mu={15} and sigma={5} for value {0}: {pdf_gaussian(0, 15, 5):.3f}\")\n",
    "print(f\"Gaussian PDF with mu={20} and sigma={0.5} for value {20}: {pdf_gaussian(20, 20, 0.5):.3f}\")\n",
    "print(f\"Gaussian PDF with mu={15} and sigma={5} for value {1}: {pdf_gaussian(1, 15, 5):.3f}\")"
   ]
  },
  {
   "cell_type": "markdown",
   "id": "b2f27cce",
   "metadata": {},
   "source": [
    "### Binomial Probability Mass Function (PMF)\n",
    "\n",
    "For the binomial distribution, since it is a discrete distribution, we will be using the Probability Mass Function (PMF) instead of the Probability Density Function (PDF). \n",
    "Remember that if we have a random variable X following a binomial distribution with parameters n and p, its PMF is given by:\n",
    "$$f(k; n, p) = {n \\choose k}  p^k  (1-p)^{n-k}$$\n",
    "\n",
    "Here, you can calculate the combination ${n \\choose k}$ using either the definition: ${n \\choose k} = \\frac{n!}{k!(n-k)!}$, utilizing the `math.factorial` function, or you can use the `scipy.special.comb` function to obtain the combination. You can also refer to the `binom` documentation to find any other relevant functions that may assist you."
   ]
  },
  {
   "cell_type": "code",
   "execution_count": 22,
   "id": "64167eef",
   "metadata": {
    "tags": [
     "graded"
    ]
   },
   "outputs": [],
   "source": [
    "def pmf_binomial(k, n, p):\n",
    "    \"\"\"\n",
    "    Calculate the probability mass function (PMF) of a binomial distribution at a specific value.\n",
    "\n",
    "    Args:\n",
    "        k (int): The value at which to evaluate the PMF.\n",
    "        n (int): The number of trials in the binomial distribution.\n",
    "        p (float): The probability of success for each trial.\n",
    "\n",
    "    Returns:\n",
    "        float: The probability mass function (PMF) of the binomial distribution at the specified value.\n",
    "    \"\"\"\n",
    "\n",
    "    ### START CODE HERE ###\n",
    "    pdf = binom.pmf(k, n, p)\n",
    "    ### END CODE HERE ###\n",
    "\n",
    "    return pdf"
   ]
  },
  {
   "cell_type": "code",
   "execution_count": 23,
   "id": "9fe98c6d",
   "metadata": {},
   "outputs": [
    {
     "data": {
      "text/plain": [
       "[<matplotlib.lines.Line2D at 0x7fb6c1b7f110>]"
      ]
     },
     "execution_count": 23,
     "metadata": {},
     "output_type": "execute_result"
    },
    {
     "data": {
      "image/png": "[encoded data removed]",
      "text/plain": [
       "<Figure size 640x480 with 1 Axes>"
      ]
     },
     "metadata": {},
     "output_type": "display_data"
    }
   ],
   "source": [
    "xtest = np.arange(0,50)\n",
    "ytest = pmf_binomial(xtest, 50, 0.7)\n",
    "plt.plot(xtest,ytest)"
   ]
  },
  {
   "cell_type": "code",
   "execution_count": 24,
   "id": "e15b91ec",
   "metadata": {
    "tags": [
     "graded"
    ]
   },
   "outputs": [
    {
     "name": "stdout",
     "output_type": "stream",
     "text": [
      "Binomial PMF with n=15 and p=0.9 for value 15: 0.206\n",
      "Binomial PMF with n=30 and p=0.5 for value 15: 0.144\n",
      "Binomial PMF with n=20 and p=0.9 for value 15: 0.032\n",
      "Binomial PMF with n=15 and p=0.5 for value 20: 0.000\n"
     ]
    }
   ],
   "source": [
    "# Test your function\n",
    "\n",
    "print(f\"Binomial PMF with n={15} and p={0.9} for value {15}: {pdf_binomial(15, 15, 0.9):.3f}\")\n",
    "print(f\"Binomial PMF with n={30} and p={0.5} for value {15}: {pdf_binomial(15, 30, 0.5):.3f}\")\n",
    "print(f\"Binomial PMF with n={20} and p={0.9} for value {15}: {pdf_binomial(15, 20, 0.9):.3f}\")\n",
    "print(f\"Binomial PMF with n={15} and p={0.5} for value {20}: {pdf_binomial(20, 15, 0.5):.3f}\")"
   ]
  },
  {
   "cell_type": "code",
   "execution_count": null,
   "id": "4290c72f",
   "metadata": {},
   "outputs": [],
   "source": []
  }
 ],
 "metadata": {
  "grader_version": "1",
  "kernelspec": {
   "display_name": "Python 3 (ipykernel)",
   "language": "python",
   "name": "python3"
  },
  "language_info": {
   "codemirror_mode": {
    "name": "ipython",
    "version": 3
   },
   "file_extension": ".py",
   "mimetype": "text/x-python",
   "name": "python",
   "nbconvert_exporter": "python",
   "pygments_lexer": "ipython3",
   "version": "3.12.3"
  }
 },
 "nbformat": 4,
 "nbformat_minor": 5
}
