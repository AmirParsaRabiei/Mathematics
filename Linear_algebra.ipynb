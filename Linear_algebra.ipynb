{
 "cells": [
  {
   "cell_type": "markdown",
   "id": "560379d3",
   "metadata": {},
   "source": [
    "# Solving Linear Systems: 2 variables"
   ]
  },
  {
   "cell_type": "code",
   "execution_count": 1,
   "id": "fa3dcf04",
   "metadata": {},
   "outputs": [],
   "source": [
    "import numpy as np"
   ]
  },
  {
   "cell_type": "markdown",
   "id": "3a5552bd",
   "metadata": {},
   "source": [
    "<a name='1'></a>\n",
    "## 1 - Representing and Solving System of Linear Equations using Matrices"
   ]
  },
  {
   "cell_type": "markdown",
   "id": "7de33135",
   "metadata": {},
   "source": [
    "<a name='1.1'></a>\n",
    "### 1.1 - System of Linear Equations\n",
    "\n",
    "For example consider the following system of linear equations:\n",
    "\n",
    "\n",
    "$$\\begin{cases} \n",
    "-x+3y=7, \\\\ 3x+2y=1, \\end{cases}\\tag{1}$$\n",
    "\n",
    "It is a system of two equations with two unknown variables $x$, $y$. **To solve** a system of linear equations means to find such values of the variables $x$, $y$, that all of its equations are simultaneously satisfied.\n",
    "\n",
    "A linear system is **Singular** if it has no solution, and otherwise it is said to be **Non-singular**."
   ]
  },
  {
   "cell_type": "markdown",
   "id": "9b3741b6",
   "metadata": {},
   "source": [
    "<a name='1.2'></a>\n",
    "### 1.2 - Solving Systems of Linear Equations using Matrices\n",
    "\n",
    "Linear systems with two equations are easy to solve manually, but preparing for more complicated cases, you will investigate some solution techniques. \n",
    "\n",
    "`NumPy` linear algebra package provides quick and reliable way to solve the system of linear equations using function `np.linalg.solve(A, b)`. Here $A$ is a matrix, each row of which represents one equation in the system and each column corresponds to the variable $x_1$, $x_2$. And $b$ is a 1-D array of the free (right side) coefficients.\n",
    "Given the system of linear equations $(1)$, you can set matrix $A$ and 1-D array $b$ as:"
   ]
  },
  {
   "cell_type": "code",
   "execution_count": 2,
   "id": "e5758e1b",
   "metadata": {},
   "outputs": [
    {
     "name": "stdout",
     "output_type": "stream",
     "text": [
      "Matrix A:\n",
      "[[-1.  3.]\n",
      " [ 3.  2.]]\n",
      "\n",
      "Array b:\n",
      "[7. 1.]\n"
     ]
    }
   ],
   "source": [
    "A = np.array([\n",
    "        [-1, 3],\n",
    "        [3, 2]\n",
    "    ], dtype=np.dtype(float))\n",
    "\n",
    "b = np.array([7, 1], dtype=np.dtype(float))\n",
    "\n",
    "print(\"Matrix A:\")\n",
    "print(A)\n",
    "print(\"\\nArray b:\")\n",
    "print(b)"
   ]
  },
  {
   "cell_type": "markdown",
   "id": "cb8d9457",
   "metadata": {},
   "source": [
    "Check the dimensions of $A$ and $b$ using the `shape` attribute (you can also use `np.shape()` as an alternative):"
   ]
  },
  {
   "cell_type": "code",
   "execution_count": 3,
   "id": "ddc3b411",
   "metadata": {},
   "outputs": [
    {
     "name": "stdout",
     "output_type": "stream",
     "text": [
      "Shape of A: (2, 2)\n",
      "Shape of b: (2,)\n"
     ]
    }
   ],
   "source": [
    "print(f\"Shape of A: {A.shape}\")\n",
    "print(f\"Shape of b: {b.shape}\")\n",
    "\n",
    "# print(f\"Shape of A: {np.shape(A)}\")\n",
    "# print(f\"Shape of A: {np.shape(b)}\")"
   ]
  },
  {
   "cell_type": "markdown",
   "id": "ee2f505f",
   "metadata": {},
   "source": [
    "Now simply use `np.linalg.solve(A, b)` function to find the solution of the system $(1)$. The result will be saved in the 1-D array $x$. The elements will correspond to the values of $x_1$ and $x_2$:"
   ]
  },
  {
   "cell_type": "code",
   "execution_count": 4,
   "id": "5e87fd89",
   "metadata": {},
   "outputs": [
    {
     "name": "stdout",
     "output_type": "stream",
     "text": [
      "Solution: [-1.  2.]\n"
     ]
    }
   ],
   "source": [
    "x = np.linalg.solve(A, b)\n",
    "\n",
    "print(f\"Solution: {x}\")"
   ]
  },
  {
   "cell_type": "markdown",
   "id": "15e5933b",
   "metadata": {},
   "source": [
    "Try to substitute those values of $x_1$ and $x_2$ into the original system of equations to check its consistency."
   ]
  },
  {
   "cell_type": "markdown",
   "id": "0720e16c",
   "metadata": {},
   "source": [
    "<a name='1.3'></a>\n",
    "### 1.3 - Evaluating Determinant of a Matrix\n",
    "\n",
    "Matrix $A$ corresponding to the linear system $(1)$ is a **square matrix** - it has the same number of rows and columns. In case of a square matrix it is possible to calculate its determinant.\n",
    "\n",
    "Let's calculate the determinant using `NumPy` linear algebra package. You can do it with the `np.linalg.det(A)` function. "
   ]
  },
  {
   "cell_type": "code",
   "execution_count": 5,
   "id": "6cb492c2",
   "metadata": {},
   "outputs": [
    {
     "name": "stdout",
     "output_type": "stream",
     "text": [
      "Determinant of matrix A: -11.00\n"
     ]
    }
   ],
   "source": [
    "d = np.linalg.det(A)\n",
    "\n",
    "print(f\"Determinant of matrix A: {d:.2f}\")"
   ]
  },
  {
   "cell_type": "markdown",
   "id": "76d5e51f",
   "metadata": {},
   "source": [
    "Note that its value is non-zero, as expected since the matrix is Non-singular."
   ]
  },
  {
   "cell_type": "markdown",
   "id": "696ec734",
   "metadata": {},
   "source": [
    "<a name='2'></a>\n",
    "## 2 - System of Linear Equations with No Solutions\n",
    "\n",
    "Given another system of linear equations:\n",
    "\n",
    "$$\\begin{cases} \n",
    "-x+3y=7, \\\\ 3x-9y=1, \\end{cases}\\tag{5}$$\n",
    "\n",
    "let's find the determinant of the corresponding matrix."
   ]
  },
  {
   "cell_type": "code",
   "execution_count": 12,
   "id": "4780129a",
   "metadata": {},
   "outputs": [
    {
     "name": "stdout",
     "output_type": "stream",
     "text": [
      "Determinant of matrix A_2: 0.00\n"
     ]
    }
   ],
   "source": [
    "A_2 = np.array([\n",
    "        [-1, 3],\n",
    "        [3, -9]\n",
    "    ], dtype=np.dtype(float))\n",
    "\n",
    "b_2 = np.array([7, 1], dtype=np.dtype(float))\n",
    "\n",
    "d_2 = np.linalg.det(A_2)\n",
    "\n",
    "print(f\"Determinant of matrix A_2: {d_2:.2f}\")"
   ]
  },
  {
   "cell_type": "markdown",
   "id": "e60bd6f9",
   "metadata": {},
   "source": [
    "It is equal to zero, thus the system is Singular. It will have either infinitely many solutions or none. The consistency of it will depend on the free coefficients (right side coefficients). You can run the code in the following cell to check that the `np.linalg.solve()` function will give an error due to singularity."
   ]
  },
  {
   "cell_type": "code",
   "execution_count": 7,
   "id": "14f088b4",
   "metadata": {},
   "outputs": [
    {
     "name": "stdout",
     "output_type": "stream",
     "text": [
      "Singular matrix\n"
     ]
    }
   ],
   "source": [
    "try:\n",
    "    x_2 = np.linalg.solve(A_2, b_2)\n",
    "except np.linalg.LinAlgError as err:\n",
    "    print(err)"
   ]
  },
  {
   "cell_type": "markdown",
   "id": "06f3c154",
   "metadata": {},
   "source": [
    "3-dimensional system of linear equations\n",
    "\n",
    "$$\\begin{cases} \n",
    "2x + 3y - z = 5 \\\\ 4x - y + 2z = 3\\\\ -3x + 2y + 5z = 7  \\end{cases}\\tag{1}$$\n"
   ]
  },
  {
   "cell_type": "code",
   "execution_count": 13,
   "id": "2d39213d",
   "metadata": {},
   "outputs": [
    {
     "name": "stdout",
     "output_type": "stream",
     "text": [
      "Determinant of matrix A: -101.00\n",
      "\n",
      "Solution:\n",
      "x = 0.603960396039604\n",
      "y = 1.6336633663366338\n",
      "z = 1.1089108910891088\n"
     ]
    }
   ],
   "source": [
    "# Define the coefficients matrix A\n",
    "A = np.array( [[2,3,-1],[4,-1,2],[-3,2,5]],dtype=np.dtype(float))\n",
    "\n",
    "# Define the constants vector b\n",
    "b = np.array([5, 3, 7])\n",
    "\n",
    "# Determinate coefficients\n",
    "d = np.linalg.det(A)\n",
    "print(f\"Determinant of matrix A: {d:.2f}\\n\")\n",
    "\n",
    "try:\n",
    "    # Solve the system of linear equations\n",
    "    solution = np.linalg.solve(A, b)\n",
    "\n",
    "    # Print the solution\n",
    "    print(\"Solution:\")\n",
    "    print(\"x =\", solution[0])\n",
    "    print(\"y =\", solution[1])\n",
    "    print(\"z =\", solution[2])\n",
    "except np.linalg.LinAlgError as err:\n",
    "    print(err)"
   ]
  },
  {
   "cell_type": "markdown",
   "id": "c73613fc",
   "metadata": {},
   "source": [
    "# Introducing the Vectors\n",
    "<h4>2-Dimensional vector:<h4>\n",
    "<img src=\"images/Screenshot from 2024-04-27 19-27-30.png\" alt=\"Alt Text\" height=\"400\">\n",
    "<img src=\"images/image.png\" alt=\"Alt Text\" height=\"200\">\n",
    "<img src=\"images/image1.png\" alt=\"Alt Text\" height=\"200\">\n",
    "\n",
    "Q : Why the the L1 and L2 is not equal?\n",
    "The Euclidean distance gives the shortest possible path between the two points, while the Manhattan distance gives the path length if you are restricted to moving only horizontally or vertically.\n",
    "\n",
    "* How many ways can you calculate the distance between two points?\n",
    "There are some of the commonly used distance metrics, but there are many more specialized distances used in various fields like bioinformatics, computer vision, and machine learning. The choice of distance metric depends on the specific problem, data type, and desired properties of the distance function."
   ]
  },
  {
   "cell_type": "markdown",
   "id": "6c91b364",
   "metadata": {},
   "source": [
    "# Dot product\n",
    "<img src=\"images/image2.png\" alt=\"Alt Text\" height=\"200\">\n",
    "<img src=\"images/image3.png\" alt=\"Alt Text\" height=\"200\">\n",
    "<img src=\"images/image4.png\" alt=\"Alt Text\" height=\"200\">\n",
    "<img src=\"images/image5.png\" alt=\"Alt Text\" height=\"200\">"
   ]
  },
  {
   "cell_type": "markdown",
   "id": "8d8bc781",
   "metadata": {},
   "source": [
    "# Reverse matrix\n",
    "midonim ke 100 * 100^-1 = 1 va ina ye mani midan 100 * 1/100 = 1\n",
    "# age det ya matrix 0 beshe on matrix reverse nmishe\n",
    "<img src=\"images/image6.png\" alt=\"Alt Text\" height=\"200\">\n",
    "\n",
    "# matrix ghotri\n",
    "<img src=\"images/image7.png\" alt=\"Alt Text\" height=\"200\">"
   ]
  },
  {
   "cell_type": "markdown",
   "id": "866649dc",
   "metadata": {},
   "source": [
    "# Vizhe meghdar ha va vizhe bordar ha kheili mohem hastan bara kahesh abaad va PCA...\n",
    "in dare mige ke asare zaarbe ye matrix roye vector barabar hast ba asare zarbe ye sabet(lambda) to hamon vector\n",
    "# \n",
    "va harchi to in equation sedgh kard, mishe begim vizhe meghdar ya vizhe vector\n",
    "#\n",
    "<img src=\"images/image8.png\" alt=\"Alt Text\" height=\"200\">"
   ]
  }
 ],
 "metadata": {
  "kernelspec": {
   "display_name": "Python 3 (ipykernel)",
   "language": "python",
   "name": "python3"
  },
  "language_info": {
   "codemirror_mode": {
    "name": "ipython",
    "version": 3
   },
   "file_extension": ".py",
   "mimetype": "text/x-python",
   "name": "python",
   "nbconvert_exporter": "python",
   "pygments_lexer": "ipython3",
   "version": "3.12.2"
  }
 },
 "nbformat": 4,
 "nbformat_minor": 5
}
