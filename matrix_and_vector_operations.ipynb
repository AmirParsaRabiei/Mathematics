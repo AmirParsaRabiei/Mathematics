{
 "cells": [
  {
   "cell_type": "markdown",
   "id": "reverse-interview",
   "metadata": {},
   "source": [
    "# Transpose"
   ]
  },
  {
   "cell_type": "code",
   "execution_count": 5,
   "id": "f4d2aa59",
   "metadata": {},
   "outputs": [],
   "source": [
    "import numpy as np"
   ]
  },
  {
   "cell_type": "code",
   "execution_count": 6,
   "id": "8e71a372",
   "metadata": {},
   "outputs": [
    {
     "name": "stdout",
     "output_type": "stream",
     "text": [
      "Vector: \n",
      " [[1 2 3 4 5 6]]\n",
      "\n",
      "Transpose of vector: \n",
      " [[1]\n",
      " [2]\n",
      " [3]\n",
      " [4]\n",
      " [5]\n",
      " [6]]\n",
      "\n",
      "Matrix: \n",
      " [[1 2 3]\n",
      " [4 5 6]]\n",
      "\n",
      "Transpose of matrix: \n",
      " [[1 4]\n",
      " [2 5]\n",
      " [3 6]]\n"
     ]
    }
   ],
   "source": [
    "vector = np.array([[1,2,3,4,5,6]])\n",
    "matrix = np.array([[1,2,3],[4,5,6]])\n",
    "\n",
    "print(\"Vector: \\n\", vector)\n",
    "print()\n",
    "print(\"Transpose of vector: \\n\", vector.T)\n",
    "#print(\"Transpose of vector:\", np.transpose(vector))\n",
    "\n",
    "print()\n",
    "\n",
    "print(\"Matrix: \\n\", matrix)\n",
    "print()\n",
    "print(\"Transpose of matrix: \\n\", matrix.T)\n",
    "#print(\"Transpose of matrix:\", np.transpose(matrix))"
   ]
  },
  {
   "cell_type": "markdown",
   "id": "168b4d4b",
   "metadata": {},
   "source": [
    "## Identity Matrix <a class=\"anchor\" id=\"identity_matrix\"></a> "
   ]
  },
  {
   "cell_type": "code",
   "execution_count": 7,
   "id": "c339ca6b",
   "metadata": {},
   "outputs": [
    {
     "name": "stdout",
     "output_type": "stream",
     "text": [
      "\u001b[0;31mSignature:\u001b[0m \u001b[0mnp\u001b[0m\u001b[0;34m.\u001b[0m\u001b[0midentity\u001b[0m\u001b[0;34m(\u001b[0m\u001b[0mn\u001b[0m\u001b[0;34m,\u001b[0m \u001b[0mdtype\u001b[0m\u001b[0;34m=\u001b[0m\u001b[0;32mNone\u001b[0m\u001b[0;34m,\u001b[0m \u001b[0;34m*\u001b[0m\u001b[0;34m,\u001b[0m \u001b[0mlike\u001b[0m\u001b[0;34m=\u001b[0m\u001b[0;32mNone\u001b[0m\u001b[0;34m)\u001b[0m\u001b[0;34m\u001b[0m\u001b[0;34m\u001b[0m\u001b[0m\n",
      "\u001b[0;31mDocstring:\u001b[0m\n",
      "Return the identity array.\n",
      "\n",
      "The identity array is a square array with ones on\n",
      "the main diagonal.\n",
      "\n",
      "Parameters\n",
      "----------\n",
      "n : int\n",
      "    Number of rows (and columns) in `n` x `n` output.\n",
      "dtype : data-type, optional\n",
      "    Data-type of the output.  Defaults to ``float``.\n",
      "like : array_like, optional\n",
      "    Reference object to allow the creation of arrays which are not\n",
      "    NumPy arrays. If an array-like passed in as ``like`` supports\n",
      "    the ``__array_function__`` protocol, the result will be defined\n",
      "    by it. In this case, it ensures the creation of an array object\n",
      "    compatible with that passed in via this argument.\n",
      "\n",
      "    .. versionadded:: 1.20.0\n",
      "\n",
      "Returns\n",
      "-------\n",
      "out : ndarray\n",
      "    `n` x `n` array with its main diagonal set to one,\n",
      "    and all other elements 0.\n",
      "\n",
      "Examples\n",
      "--------\n",
      ">>> np.identity(3)\n",
      "array([[1.,  0.,  0.],\n",
      "       [0.,  1.,  0.],\n",
      "       [0.,  0.,  1.]])\n",
      "\u001b[0;31mFile:\u001b[0m      /usr/local/lib64/python3.12/site-packages/numpy/core/numeric.py\n",
      "\u001b[0;31mType:\u001b[0m      function"
     ]
    }
   ],
   "source": [
    "np.identity?"
   ]
  },
  {
   "cell_type": "code",
   "execution_count": 8,
   "id": "bfff4216",
   "metadata": {},
   "outputs": [
    {
     "name": "stdout",
     "output_type": "stream",
     "text": [
      "I: \n",
      " [[1 0]\n",
      " [0 1]]\n",
      "\n",
      "AI: \n",
      " [[1 2]\n",
      " [3 4]]\n",
      "\n",
      "A: \n",
      " [[1 2]\n",
      " [3 4]]\n"
     ]
    }
   ],
   "source": [
    "A = np.array([[1,2],[3,4]])\n",
    "I = np.identity(2, dtype=int) # dtype = float (default)\n",
    "\n",
    "print(\"I: \\n\", I)\n",
    "print()\n",
    "print(\"AI: \\n\", np.dot(A, I))\n",
    "print()\n",
    "print(\"A: \\n\", A)"
   ]
  },
  {
   "cell_type": "markdown",
   "id": "30c73a6d",
   "metadata": {},
   "source": [
    "## Inverse matrix <a class=\"anchor\" id=\"inverse_matrix\"></a>"
   ]
  },
  {
   "cell_type": "code",
   "execution_count": 9,
   "id": "dcdc69a9",
   "metadata": {},
   "outputs": [
    {
     "name": "stdout",
     "output_type": "stream",
     "text": [
      "A: \n",
      " [[1 2]\n",
      " [3 4]]\n",
      "\n",
      "inverse of A is: \n",
      " [[-2.   1. ]\n",
      " [ 1.5 -0.5]]\n",
      "====================\n",
      "matrix multiplication:\n",
      "[[1.0000000e+00 0.0000000e+00]\n",
      " [8.8817842e-16 1.0000000e+00]]\n",
      "====================\n",
      "element-wise multiplicatio:\n",
      "[[-2.   2. ]\n",
      " [ 4.5 -2. ]]\n",
      "====================\n",
      "dot product multiplication:\n",
      "[[1.0000000e+00 0.0000000e+00]\n",
      " [8.8817842e-16 1.0000000e+00]]\n"
     ]
    }
   ],
   "source": [
    "A = np.array([[1,2],[3,4]])\n",
    "\n",
    "print(\"A: \\n\", A)\n",
    "print()\n",
    "print(\"inverse of A is: \\n\", np.linalg.inv(A))\n",
    "\n",
    "Ainv = np.linalg.inv(A)\n",
    "print('='*20)\n",
    "print(f\"matrix multiplication:\\n{np.matmul(A,Ainv)}\")\n",
    "print('='*20)\n",
    "print(f\"element-wise multiplicatio:\\n{A*Ainv}\")\n",
    "print('='*20)\n",
    "print(f\"dot product multiplication:\\n{np.dot(A,Ainv)}\")"
   ]
  },
  {
   "cell_type": "markdown",
   "metadata": {},
   "source": [
    "Certainly! Let's break down the differences between `np.matmul(A, Ainv)`, `A * Ainv`, and `np.dot(A, Ainv)` in the given code.\n",
    "\n",
    "1. `np.matmul(A, Ainv)`:\n",
    "   - `np.matmul()` is a NumPy function that performs matrix multiplication between two arrays.\n",
    "   - It multiplies the matrices `A` and `Ainv` following the rules of matrix multiplication.\n",
    "   - The resulting matrix will have dimensions compatible with the input matrices.\n",
    "   - In this case, since `A` and `Ainv` are both 2x2 matrices, the result will be a 2x2 matrix.\n",
    "   - The matrix multiplication is performed element-wise, where each element in the resulting matrix is the sum of the products of corresponding elements from the input matrices.\n",
    "\n",
    "2. `A * Ainv`:\n",
    "   - In NumPy, the `*` operator performs element-wise multiplication (Hadamard product) between two arrays of the same shape.\n",
    "   - It multiplies each element of `A` with the corresponding element of `Ainv`.\n",
    "   - The resulting matrix will have the same dimensions as the input matrices.\n",
    "   - Element-wise multiplication is different from matrix multiplication and does not follow the rules of matrix algebra.\n",
    "\n",
    "3. `np.dot(A, Ainv)`:\n",
    "   - `np.dot()` is a NumPy function that performs dot product multiplication between two arrays.\n",
    "   - When the input arrays are 2-dimensional, `np.dot()` performs matrix multiplication, similar to `np.matmul()`.\n",
    "   - It multiplies the matrices `A` and `Ainv` following the rules of matrix multiplication.\n",
    "   - The resulting matrix will have dimensions compatible with the input matrices.\n",
    "   - In this case, since `A` and `Ainv` are both 2x2 matrices, the result will be a 2x2 matrix.\n",
    "\n",
    "Here are a few more examples to illustrate the differences:\n",
    "\n",
    "Example 1:\n",
    "```python\n",
    "A = np.array([[1, 2], [3, 4]])\n",
    "B = np.array([[5, 6], [7, 8]])\n",
    "\n",
    "print(np.matmul(A, B))\n",
    "print(A * B)\n",
    "print(np.dot(A, B))\n",
    "```\n",
    "\n",
    "Output:\n",
    "```\n",
    "[[19 22]\n",
    " [43 50]]\n",
    "[[ 5 12]\n",
    " [21 32]]\n",
    "[[19 22]\n",
    " [43 50]]\n",
    "```\n",
    "\n",
    "Example 2:\n",
    "```python\n",
    "A = np.array([[1, 2, 3], [4, 5, 6]])\n",
    "B = np.array([[7, 8], [9, 10], [11, 12]])\n",
    "\n",
    "print(np.matmul(A, B))\n",
    "print(A * B)  # This will raise an error because A and B have incompatible shapes for element-wise multiplication\n",
    "print(np.dot(A, B))\n",
    "```\n",
    "\n",
    "Output:\n",
    "```\n",
    "[[ 58  64]\n",
    " [139 154]]\n",
    "ValueError: operands could not be broadcast together with shapes (2,3) (3,2) \n",
    "[[ 58  64]\n",
    " [139 154]]\n",
    "```\n",
    "\n",
    "In summary:\n",
    "- `np.matmul(A, Ainv)` and `np.dot(A, Ainv)` perform matrix multiplication between `A` and `Ainv`, following the rules of matrix algebra.\n",
    "- `A * Ainv` performs element-wise multiplication between `A` and `Ainv`, which is different from matrix multiplication and requires the arrays to have the same shape.\n",
    "\n",
    "I hope this clarifies the differences between these operations!"
   ]
  },
  {
   "cell_type": "markdown",
   "id": "1a710ed5",
   "metadata": {},
   "source": [
    "# what's difference between np.matmul(A, Ainv) and np.dot(A, Ainv) and tell me more examples"
   ]
  },
  {
   "cell_type": "code",
   "execution_count": 10,
   "id": "8ed8fd9a",
   "metadata": {},
   "outputs": [
    {
     "name": "stdout",
     "output_type": "stream",
     "text": [
      "np.matmul() result:\n",
      "[[[  60   90  120]\n",
      "  [ 140  210  280]\n",
      "  [ 220  330  440]]\n",
      "\n",
      " [[ 764  938 1112]\n",
      "  [ 972 1194 1416]\n",
      "  [1180 1450 1720]]]\n",
      "Shape of result from np.matmul(): (2, 3, 3)\n",
      "\n",
      "np.dot() result:\n",
      "[[[[  60   90  120]\n",
      "   [ 140  170  200]]\n",
      "\n",
      "  [[ 140  210  280]\n",
      "   [ 348  426  504]]\n",
      "\n",
      "  [[ 220  330  440]\n",
      "   [ 556  682  808]]]\n",
      "\n",
      "\n",
      " [[[ 300  450  600]\n",
      "   [ 764  938 1112]]\n",
      "\n",
      "  [[ 380  570  760]\n",
      "   [ 972 1194 1416]]\n",
      "\n",
      "  [[ 460  690  920]\n",
      "   [1180 1450 1720]]]]\n",
      "Shape of result from np.dot(): (2, 3, 2, 3)\n"
     ]
    }
   ],
   "source": [
    "import numpy as np\n",
    "\n",
    "# Create two 3-D arrays\n",
    "# A has shape (2, 3, 4): 2 matrices of size 3x4\n",
    "A = np.array([\n",
    "    [[1, 2, 3, 4], [5, 6, 7, 8], [9, 10, 11, 12]],\n",
    "    [[13, 14, 15, 16], [17, 18, 19, 20], [21, 22, 23, 24]]\n",
    "])\n",
    "\n",
    "# B has shape (2, 4, 3): 2 matrices of size 4x3\n",
    "B = np.array([\n",
    "    [[2, 3, 4], [4, 6, 8], [6, 9, 12], [8, 12, 16]],\n",
    "    [[10, 13, 16], [12, 15, 18], [14, 17, 20], [16, 19, 22]]\n",
    "])\n",
    "\n",
    "# Using np.matmul() for batch matrix multiplication\n",
    "# It will multiply corresponding matrices: A[0] with B[0], and A[1] with B[1]\n",
    "result_matmul = np.matmul(A, B)\n",
    "print(\"np.matmul() result:\")\n",
    "print(result_matmul)\n",
    "print(\"Shape of result from np.matmul():\", result_matmul.shape)\n",
    "print()\n",
    "\n",
    "# Using np.dot() for dot product\n",
    "# It will perform a sum product over the last axis of A and the second-to-last of B\n",
    "result_dot = np.dot(A, B)\n",
    "print(\"np.dot() result:\")\n",
    "print(result_dot)\n",
    "print(\"Shape of result from np.dot():\", result_dot.shape)"
   ]
  },
  {
   "cell_type": "markdown",
   "id": "6b0c00da",
   "metadata": {},
   "source": [
    "Sure, let's start with the dot product in 2 dimensions, which is simpler and will help build the foundation for understanding the 3-dimensional case.\n",
    "\n",
    "### Dot Product in 2 Dimensions\n",
    "\n",
    "https://www.youtube.com/watch?v=LyGKycYT2v0\n",
    "\n",
    "The dot product in 2 dimensions is a way to multiply two vectors to get a scalar (a single number). If you have two vectors `x` and `y`, each with two components, the dot product is calculated as follows:\n",
    "\n",
    "```\n",
    "x = [x1, x2]\n",
    "y = [y1, y2]\n",
    "\n",
    "Dot Product = x1*y1 + x2*y2\n",
    "```\n",
    "\n",
    "Here's how you can calculate the dot product in Python using NumPy:\n",
    "\n",
    "```python\n",
    "import numpy as np\n",
    "\n",
    "# Define two 2-dimensional vectors\n",
    "x = np.array([1, 2])\n",
    "y = np.array([3, 4])\n",
    "\n",
    "# Calculate the dot product\n",
    "dot_product = np.dot(x, y)\n",
    "print(\"Dot Product:\", dot_product)\n",
    "```\n",
    "\n",
    "### Dot Product in 3 Dimensions\n",
    "\n",
    "The dot product in 3 dimensions is an extension of the 2-dimensional case. If you have two vectors `x` and `y`, each with three components, the dot product is calculated as:\n",
    "\n",
    "```\n",
    "x = [x1, x2, x3]\n",
    "y = [y1, y2, y3]\n",
    "\n",
    "Dot Product = x1*y1 + x2*y2 + x3*y3\n",
    "```\n",
    "\n",
    "Here's the 3-dimensional case in Python using NumPy:\n",
    "\n",
    "```python\n",
    "import numpy as np\n",
    "\n",
    "# Define two 3-dimensional vectors\n",
    "x = np.array([1, 2, 3])\n",
    "y = np.array([4, 5, 6])\n",
    "\n",
    "# Calculate the dot product\n",
    "dot_product = np.dot(x, y)\n",
    "print(\"Dot Product:\", dot_product)\n",
    "```\n",
    "\n",
    "### Dot Product with 2D and 3D Arrays\n",
    "\n",
    "When you're dealing with arrays (or matrices) instead of single vectors, the dot product concept is extended to matrix multiplication. For 2D arrays, the dot product is the matrix product of the arrays. For two matrices `A` and `B` to be multiplied, the number of columns in `A` must be equal to the number of rows in `B`.\n",
    "\n",
    "Here's an example with 2D arrays:\n",
    "\n",
    "```python\n",
    "import numpy as np\n",
    "\n",
    "# Define two 2D arrays (matrices)\n",
    "A = np.array([[1, 2], [3, 4]])\n",
    "B = np.array([[5, 6], [7, 8]])\n",
    "\n",
    "# Calculate the matrix product (dot product in this context)\n",
    "product = np.dot(A, B)\n",
    "print(\"Matrix Product:\\n\", product)\n",
    "```\n",
    "\n",
    "For 3D arrays, the dot product is a bit more complex. It involves summing products over certain axes. In NumPy, `np.dot()` will perform a sum product over the last axis of the first array and the second-to-last of the second array.\n",
    "\n",
    "Here's an example with 3D arrays:\n",
    "\n",
    "```python\n",
    "import numpy as np\n",
    "\n",
    "# Define two 3D arrays\n",
    "A = np.random.randint(10, size=(2, 3, 4))\n",
    "B = np.random.randint(10, size=(2, 4, 3))\n",
    "\n",
    "# Calculate the dot product\n",
    "# It will sum products over the last axis of A and the second-to-last of B\n",
    "product = np.dot(A, B)\n",
    "print(\"Dot Product of 3D arrays:\\n\", product)\n",
    "print(\"Shape of the result:\", product.shape)\n",
    "```\n",
    "\n",
    "In this 3D example, the result will be a 4D array because `np.dot()` combines the arrays in a way that the last axis of `A` and the second-to-last axis of `B` are summed over, and the remaining dimensions are expanded outwards.\n",
    "\n",
    "Remember, the dot product in the context of arrays is essentially matrix multiplication, and the rules for matrix dimensions apply. The dot product of vectors is a special case of matrix multiplication where each vector is treated as a matrix with one row or one column."
   ]
  },
  {
   "cell_type": "code",
   "execution_count": 11,
   "id": "a868a170",
   "metadata": {},
   "outputs": [
    {
     "name": "stdout",
     "output_type": "stream",
     "text": [
      "Dot Product: 32\n"
     ]
    }
   ],
   "source": [
    "import numpy as np\n",
    "\n",
    "# Define two 3-dimensional vectors\n",
    "x = np.array([1, 2, 3])\n",
    "y = np.array([4, 5, 6])\n",
    "\n",
    "# Calculate the dot product\n",
    "dot_product = np.dot(x, y)\n",
    "print(\"Dot Product:\", dot_product)"
   ]
  },
  {
   "cell_type": "code",
   "execution_count": 12,
   "id": "9e4d7dee",
   "metadata": {},
   "outputs": [
    {
     "name": "stdout",
     "output_type": "stream",
     "text": [
      "[[[9 6 0 7]\n",
      "  [5 2 0 5]\n",
      "  [4 8 6 0]]\n",
      "\n",
      " [[2 7 5 5]\n",
      "  [8 4 9 7]\n",
      "  [8 9 4 9]]]\n",
      "====================================================================================================\n",
      "[[[7 6 3]\n",
      "  [6 2 8]\n",
      "  [2 3 6]\n",
      "  [0 1 7]]\n",
      "\n",
      " [[1 3 8]\n",
      "  [1 3 5]\n",
      "  [7 3 3]\n",
      "  [7 8 9]]]\n",
      "Dot Product of 3D arrays:\n",
      " [[[[ 99  73 124]\n",
      "   [ 64 101 165]]\n",
      "\n",
      "  [[ 47  39  66]\n",
      "   [ 42  61  95]]\n",
      "\n",
      "  [[ 88  58 112]\n",
      "   [ 54  54  90]]]\n",
      "\n",
      "\n",
      " [[[ 66  46 127]\n",
      "   [ 79  82 111]]\n",
      "\n",
      "  [[ 98  90 159]\n",
      "   [124 119 174]]\n",
      "\n",
      "  [[118  87 183]\n",
      "   [108 135 202]]]]\n",
      "Shape of the result: (2, 3, 2, 3)\n"
     ]
    }
   ],
   "source": [
    "import numpy as np\n",
    "\n",
    "# Define two 3D arrays\n",
    "A = np.random.randint(10, size=(2, 3, 4))\n",
    "B = np.random.randint(10, size=(2, 4, 3))\n",
    "\n",
    "print(A)\n",
    "print('='*100)\n",
    "print(B)\n",
    "\n",
    "\n",
    "# Calculate the dot product\n",
    "# It will sum products over the last axis of A and the second-to-last of B\n",
    "product = np.dot(A, B)\n",
    "print(\"Dot Product of 3D arrays:\\n\", product)\n",
    "print(\"Shape of the result:\", product.shape)"
   ]
  },
  {
   "cell_type": "markdown",
   "id": "4494f4e7",
   "metadata": {},
   "source": [
    "Certainly! Let's create a more detailed example to illustrate the difference between `np.matmul()` and `np.dot()` when dealing with 3-D arrays.\n",
    "\n",
    "In this example, `A` is a stack of two 3x4 matrices, and `B` is a stack of two 4x3 matrices. When we use `np.matmul(A, B)`, it performs two separate matrix multiplications: one for each pair of matrices in the stack. The result is a new stack of two 3x3 matrices, so the shape of the result is `(2, 3, 3)`.\n",
    "\n",
    "However, when we use `np.dot(A, B)`, it combines the matrices in a different way. It performs a sum product over the last axis of `A` (size 4) and the second-to-last axis of `B` (size 4), resulting in a 4-D array. The shape of the result is `(2, 3, 2, 3)`, which can be a bit unintuitive. It's as if for each `i` and `j` in the first two dimensions, you're taking the dot product of `A[i, :, :]` with `B[j, :, :]`.\n",
    "\n",
    "The output of this code will show you the actual matrices resulting from the operations and their shapes, which will help you visualize the difference in how `np.matmul()` and `np.dot()` treat 3-D arrays."
   ]
  },
  {
   "cell_type": "markdown",
   "id": "cb482ea2",
   "metadata": {},
   "source": [
    "# Vector Operations"
   ]
  },
  {
   "cell_type": "markdown",
   "id": "parental-conclusion",
   "metadata": {},
   "source": [
    "In this notebook you will use Python and `NumPy` functions to perform main vector operations: scalar multiplication, sum of vectors and their dot product. You will also investigate the speed of calculations using loop and vectorized forms of these main linear algebra operations"
   ]
  },
  {
   "cell_type": "markdown",
   "id": "severe-studio",
   "metadata": {},
   "source": [
    "<a name='1'></a>\n",
    "##  Scalar Multiplication and Sum of Vectors"
   ]
  },
  {
   "cell_type": "markdown",
   "id": "ethical-success",
   "metadata": {},
   "source": [
    "<a name='1.1'></a>\n",
    "###  Visualization of a Vector $v\\in\\mathbb{R}^2$\n",
    "\n",
    "\n",
    "The following code will show the visualization."
   ]
  },
  {
   "cell_type": "code",
   "execution_count": 13,
   "id": "korean-landing",
   "metadata": {},
   "outputs": [
    {
     "data": {
      "image/png": "[encoded data removed]",
      "text/plain": [
       "<Figure size 700x700 with 1 Axes>"
      ]
     },
     "metadata": {},
     "output_type": "display_data"
    }
   ],
   "source": [
    "import matplotlib.pyplot as plt\n",
    "\n",
    "def plot_vectors(list_v, list_label, list_color):\n",
    "    _, ax = plt.subplots(figsize=(7, 7))\n",
    "    ax.tick_params(axis='x', labelsize=14)\n",
    "    ax.tick_params(axis='y', labelsize=14)\n",
    "    ax.set_xticks(np.arange(-7, 7))\n",
    "    ax.set_yticks(np.arange(-7, 7))\n",
    "    \n",
    "    \n",
    "    plt.axis([-7, 7, -7, 7])\n",
    "    for i, v in enumerate(list_v):\n",
    "        sgn = 0.4 * np.array([[1] if i==0 else [i] for i in np.sign(v)])\n",
    "        plt.quiver(v[0], v[1], color=list_color[i], angles='xy', scale_units='xy', scale=1)\n",
    "        ax.text(v[0]-0.2+sgn[0], v[1]-0.2+sgn[1], list_label[i], fontsize=14, color=list_color[i])\n",
    "\n",
    "    plt.grid()\n",
    "    plt.gca().set_aspect(\"equal\")\n",
    "    plt.show()\n",
    "\n",
    "v = np.array([[1],[3]])\n",
    "# Arguments: list of vectors as NumPy arrays, labels, colors.\n",
    "plot_vectors([v], [f\"$v$\"], [\"black\"])"
   ]
  },
  {
   "cell_type": "markdown",
   "id": "original-translator",
   "metadata": {},
   "source": [
    "The vector is defined by its **norm (length, magnitude)** and **direction**, not its actual position. But for clarity and convenience vectors are often plotted starting in the origin (in $\\mathbb{R}^2$ it is a point $(0,0)$) ."
   ]
  },
  {
   "cell_type": "markdown",
   "id": "speaking-surgeon",
   "metadata": {},
   "source": [
    "<a name='1.2'></a>\n",
    "### Scalar Multiplication\n",
    "\n",
    "**Scalar multiplication** of a vector $v=\\begin{bmatrix}\n",
    "          v_1 & v_2 & \\ldots & v_n \n",
    "\\end{bmatrix}^T\\in\\mathbb{R}^n$ by a scalar $k$ is a vector $kv=\\begin{bmatrix}\n",
    "          kv_1 & kv_2 & \\ldots & kv_n \n",
    "\\end{bmatrix}^T$ (element by element multiplication). If $k>0$, then $kv$ is a vector pointing in the same direction as $v$ and it is $k$ times as long as $v$. If $k=0$, then $kv$ is a zero vector. If $k<0$, vector $kv$ will be pointing in the opposite direction. In Python you can perform this operation with a `*` operator. Check out the example below:"
   ]
  },
  {
   "cell_type": "code",
   "execution_count": 37,
   "id": "acute-investment",
   "metadata": {},
   "outputs": [
    {
     "data": {
      "image/png": "[encoded data removed]",
      "text/plain": [
       "<Figure size 700x700 with 1 Axes>"
      ]
     },
     "metadata": {},
     "output_type": "display_data"
    }
   ],
   "source": [
    "plot_vectors([v, 2*v, -2*v], [f\"$v$\", f\"$2v$\", f\"$-2v$\"], [\"black\", \"green\", \"blue\"])"
   ]
  },
  {
   "cell_type": "markdown",
   "id": "civil-county",
   "metadata": {},
   "source": [
    "<a name='1.3'></a>\n",
    "###  Sum of Vectors\n",
    "\n",
    "**Sum of vectors (vector addition)** can be performed by adding the corresponding components of the vectors: if $v=\\begin{bmatrix}\n",
    "          v_1 & v_2 & \\ldots & v_n \n",
    "\\end{bmatrix}^T\\in\\mathbb{R}^n$ and  \n",
    "$w=\\begin{bmatrix}\n",
    "          w_1 & w_2 & \\ldots & w_n \n",
    "\\end{bmatrix}^T\\in\\mathbb{R}^n$, then $v + w=\\begin{bmatrix}\n",
    "          v_1 + w_1 & v_2 + w_2 & \\ldots & v_n + w_n \n",
    "\\end{bmatrix}^T\\in\\mathbb{R}^n$. The so-called **parallelogram law** gives the rule for vector addition. For two vectors $u$ and $v$ represented by the adjacent sides (both in magnitude and direction) of a parallelogram drawn from a point, the vector sum $u+v$ is is represented by the diagonal of the parallelogram drawn from the same point:\n",
    "\n",
    "<img src = \"images/sum_of_vectors.png\" width=\"230\" align=\"middle\"/>\n",
    "\n",
    "In Python you can either use `+` operator or `NumPy` function `np.add()`. In the following code you can uncomment the line to check that the result will be the same:"
   ]
  },
  {
   "cell_type": "code",
   "execution_count": 15,
   "id": "acoustic-heath",
   "metadata": {},
   "outputs": [
    {
     "data": {
      "image/png": "[encoded data removed]",
      "text/plain": [
       "<Figure size 700x700 with 1 Axes>"
      ]
     },
     "metadata": {},
     "output_type": "display_data"
    }
   ],
   "source": [
    "v = np.array([[1],[3]])\n",
    "w = np.array([[4],[-1]])\n",
    "\n",
    "plot_vectors([v, w, v + w], [f\"$v$\", f\"$w$\", f\"$v + w$\"], [\"black\", \"black\", \"red\"])\n",
    "# plot_vectors([v, w, np.add(v, w)], [f\"$v$\", f\"$w$\", f\"$v + w$\"], [\"black\", \"black\", \"red\"])"
   ]
  },
  {
   "cell_type": "markdown",
   "id": "nearby-portal",
   "metadata": {},
   "source": [
    "<a name='1.4'></a>\n",
    "### Norm of a Vector\n",
    "\n",
    "The norm of a vector $v$ is denoted as $\\lvert v\\rvert$. It is a nonnegative number that describes the extent of the vector in space (its length). The norm of a vector can be found using `NumPy` function `np.linalg.norm()`:"
   ]
  },
  {
   "cell_type": "code",
   "execution_count": 16,
   "id": "spare-timing",
   "metadata": {},
   "outputs": [
    {
     "name": "stdout",
     "output_type": "stream",
     "text": [
      "Norm of a vector v is 3.1622776601683795\n"
     ]
    }
   ],
   "source": [
    "print(\"Norm of a vector v is\", np.linalg.norm(v))"
   ]
  },
  {
   "cell_type": "markdown",
   "id": "talented-survey",
   "metadata": {},
   "source": [
    "<a name='2'></a>\n",
    "##  Dot Product"
   ]
  },
  {
   "cell_type": "markdown",
   "id": "sunset-transmission",
   "metadata": {},
   "source": [
    "<a name='2.1'></a>\n",
    "###  Algebraic Definition of the Dot Product\n",
    "\n",
    "The **dot product** (or **scalar product**) is an algebraic operation that takes two vectors $x=\\begin{bmatrix}\n",
    "          x_1 & x_2 & \\ldots & x_n \n",
    "\\end{bmatrix}^T\\in\\mathbb{R}^n$ and  \n",
    "$y=\\begin{bmatrix}\n",
    "          y_1 & y_2 & \\ldots & y_n \n",
    "\\end{bmatrix}^T\\in\\mathbb{R}^n$ and returns a single scalar. The dot product can be represented with a dot operator $x\\cdot y$ and defined as:\n",
    "\n",
    "$$x\\cdot y = \\sum_{i=1}^{n} x_iy_i = x_1y_1+x_2y_2+\\ldots+x_ny_n \\tag{1}$$"
   ]
  },
  {
   "cell_type": "markdown",
   "id": "meaningful-timer",
   "metadata": {},
   "source": [
    "<a name='2.2'></a>\n",
    "###  Dot Product using Python\n",
    "\n",
    "The simplest way to calculate dot product in Python is to take the sum of element by element multiplications. You can define the vectors $x$ and $y$ by listing their coordinates:"
   ]
  },
  {
   "cell_type": "code",
   "execution_count": 17,
   "id": "musical-battlefield",
   "metadata": {},
   "outputs": [],
   "source": [
    "x = [1, -2, -5]\n",
    "y = [4, 3, -1]"
   ]
  },
  {
   "cell_type": "markdown",
   "id": "plastic-temple",
   "metadata": {},
   "source": [
    "Next, let’s define a function `dot(x,y)` for the dot product calculation:"
   ]
  },
  {
   "cell_type": "code",
   "execution_count": 18,
   "id": "signed-syndicate",
   "metadata": {},
   "outputs": [],
   "source": [
    "def dot(x, y):\n",
    "    s=0\n",
    "    for xi, yi in zip(x, y):\n",
    "        s += xi * yi\n",
    "    return s"
   ]
  },
  {
   "cell_type": "markdown",
   "id": "upper-highlight",
   "metadata": {},
   "source": [
    "For the sake of simplicity, let’s assume that the vectors passed to the above function are always of the same size, so that you don’t need to perform additional checks.\n",
    "\n",
    "Now everything is ready to perform the dot product calculation calling the function `dot(x,y)`:"
   ]
  },
  {
   "cell_type": "code",
   "execution_count": 19,
   "id": "amazing-broadway",
   "metadata": {},
   "outputs": [
    {
     "name": "stdout",
     "output_type": "stream",
     "text": [
      "The dot product of x and y is 3\n"
     ]
    }
   ],
   "source": [
    "print(\"The dot product of x and y is\", dot(x, y))"
   ]
  },
  {
   "cell_type": "markdown",
   "id": "banned-dallas",
   "metadata": {},
   "source": [
    "Dot product is very a commonly used operator, so `NumPy` linear algebra package provides quick way to calculate it using function `np.dot()`:"
   ]
  },
  {
   "cell_type": "code",
   "execution_count": 20,
   "id": "accessible-kinase",
   "metadata": {},
   "outputs": [
    {
     "name": "stdout",
     "output_type": "stream",
     "text": [
      "np.dot(x,y) function returns dot product of x and y: 3\n"
     ]
    }
   ],
   "source": [
    "print(\"np.dot(x,y) function returns dot product of x and y:\", np.dot(x, y)) "
   ]
  },
  {
   "cell_type": "markdown",
   "id": "friendly-beast",
   "metadata": {},
   "source": [
    "Note that you did not have to define vectors $x$ and $y$ as `NumPy` arrays, the function worked even with the lists. "
   ]
  },
  {
   "cell_type": "markdown",
   "id": "central-museum",
   "metadata": {},
   "source": [
    "It is recommended to define vectors as `NumPy` arrays to avoid errors. "
   ]
  },
  {
   "cell_type": "code",
   "execution_count": 21,
   "id": "israeli-jumping",
   "metadata": {},
   "outputs": [],
   "source": [
    "x = np.array(x)\n",
    "y = np.array(y)"
   ]
  },
  {
   "cell_type": "markdown",
   "id": "wicked-queensland",
   "metadata": {},
   "source": [
    "<a name='2.3'></a>\n",
    "### Speed of Calculations in Vectorized Form\n",
    "\n",
    "Dot product operations in Machine Learning applications are applied to the large vectors with hundreds or thousands of coordinates (called **high dimensional vectors**). Training models based on large datasets often takes hours and days even on powerful machines. Speed of calculations is crucial for the training and deployment of your models. \n",
    "\n",
    "It is important to understand the difference in the speed of calculations using vectorized and the loop forms of the vectors and functions. In the loop form operations are performed one by one, while in the vectorized form they can be performed in parallel. In the section above you defined loop version of the dot product calculation (function `dot()`), while `np.dot()` and `@` are the functions representing vectorized form.\n",
    "\n",
    "Let's perform a simple experiment to compare their speed. Define new vectors $a$ and $b$ of the same size $1,000,000$:"
   ]
  },
  {
   "cell_type": "code",
   "execution_count": 22,
   "id": "amino-creation",
   "metadata": {},
   "outputs": [],
   "source": [
    "a = np.random.rand(1000000)\n",
    "b = np.random.rand(1000000)"
   ]
  },
  {
   "cell_type": "markdown",
   "id": "facial-refrigerator",
   "metadata": {},
   "source": [
    "Use `time.time()` function to evaluate amount of time (in seconds) required to calculate dot product using the function `dot(x,y)` which you defined above: "
   ]
  },
  {
   "cell_type": "code",
   "execution_count": 23,
   "id": "handed-influence",
   "metadata": {},
   "outputs": [
    {
     "name": "stdout",
     "output_type": "stream",
     "text": [
      "Dot product:  249885.5783225803\n",
      "Time for the loop version:135.45656204223633 ms\n"
     ]
    }
   ],
   "source": [
    "import time\n",
    "\n",
    "tic = time.time()\n",
    "c = dot(a,b)\n",
    "toc = time.time()\n",
    "print(\"Dot product: \", c)\n",
    "print (\"Time for the loop version:\" + str(1000*(toc-tic)) + \" ms\")"
   ]
  },
  {
   "cell_type": "markdown",
   "id": "accessible-sherman",
   "metadata": {},
   "source": [
    "Now compare it with the speed of the vectorized versions:"
   ]
  },
  {
   "cell_type": "code",
   "execution_count": 24,
   "id": "determined-cooking",
   "metadata": {},
   "outputs": [
    {
     "name": "stdout",
     "output_type": "stream",
     "text": [
      "Dot product:  249885.57832258855\n",
      "Time for the vectorized version, np.dot() function: 1.1622905731201172 ms\n"
     ]
    }
   ],
   "source": [
    "tic = time.time()\n",
    "c = np.dot(a,b)\n",
    "toc = time.time()\n",
    "print(\"Dot product: \", c)\n",
    "print (\"Time for the vectorized version, np.dot() function: \" + str(1000*(toc-tic)) + \" ms\")"
   ]
  },
  {
   "cell_type": "markdown",
   "id": "useful-sleeping",
   "metadata": {},
   "source": [
    "You can see that vectorization is extremely beneficial in terms of the speed of calculations!"
   ]
  },
  {
   "cell_type": "markdown",
   "id": "3829d910",
   "metadata": {},
   "source": []
  },
  {
   "cell_type": "markdown",
   "id": "c07def91",
   "metadata": {},
   "source": [
    "# Matrix Multiplication"
   ]
  },
  {
   "cell_type": "markdown",
   "id": "12579817",
   "metadata": {},
   "source": [
    "Here you will use `NumPy` functions to perform matrix multiplication and see how it can be used in the Machine Learning applications. "
   ]
  },
  {
   "cell_type": "markdown",
   "id": "fce2acfc",
   "metadata": {},
   "source": [
    "<a name='1'></a>\n",
    "## Definition of Matrix Multiplication\n",
    "\n",
    "If $A$ is an $m \\times n$ matrix and $B$ is an $n \\times p$ matrix, the matrix product $C = AB$  is defined to be the $m \\times p$ matrix.\n"
   ]
  },
  {
   "cell_type": "markdown",
   "id": "361e6582",
   "metadata": {},
   "source": [
    "<a name='2'></a>\n",
    "## Matrix Multiplication using Python\n",
    "\n",
    "Like with the dot product, there are a few ways to perform matrix multiplication in Python. As discussed above, the calculations are more efficient in the vectorized form. Let's discuss the most commonly used functions in the vectorized form. First, define two matrices:"
   ]
  },
  {
   "cell_type": "code",
   "execution_count": 25,
   "id": "16b6b22d",
   "metadata": {},
   "outputs": [
    {
     "name": "stdout",
     "output_type": "stream",
     "text": [
      "Matrix A (3 by 3):\n",
      " [[4 9 9]\n",
      " [9 1 6]\n",
      " [9 2 3]]\n",
      "Matrix B (3 by 2):\n",
      " [[2 2]\n",
      " [5 7]\n",
      " [4 4]]\n"
     ]
    }
   ],
   "source": [
    "A = np.array([[4, 9, 9], [9, 1, 6], [9, 2, 3]])\n",
    "print(\"Matrix A (3 by 3):\\n\", A)\n",
    "\n",
    "B = np.array([[2, 2], [5, 7], [4, 4]])\n",
    "print(\"Matrix B (3 by 2):\\n\", B)"
   ]
  },
  {
   "cell_type": "markdown",
   "id": "42ae7afc",
   "metadata": {},
   "source": [
    "You can multiply matrices $A$ and $B$ using `NumPy` package function `np.matmul()`:"
   ]
  },
  {
   "cell_type": "code",
   "execution_count": 26,
   "id": "1c9b927a",
   "metadata": {},
   "outputs": [
    {
     "data": {
      "text/plain": [
       "array([[ 89, 107],\n",
       "       [ 47,  49],\n",
       "       [ 40,  44]])"
      ]
     },
     "execution_count": 26,
     "metadata": {},
     "output_type": "execute_result"
    }
   ],
   "source": [
    "np.matmul(A, B)"
   ]
  },
  {
   "cell_type": "markdown",
   "id": "bc58a72e",
   "metadata": {},
   "source": [
    "Which will output $3 \\times 2$ matrix as a `np.array`. Python operator `@` will also work here giving the same result:"
   ]
  },
  {
   "cell_type": "code",
   "execution_count": 27,
   "id": "fc91a6d2",
   "metadata": {},
   "outputs": [
    {
     "data": {
      "text/plain": [
       "array([[ 89, 107],\n",
       "       [ 47,  49],\n",
       "       [ 40,  44]])"
      ]
     },
     "execution_count": 27,
     "metadata": {},
     "output_type": "execute_result"
    }
   ],
   "source": [
    "A @ B"
   ]
  },
  {
   "cell_type": "markdown",
   "id": "522cdab9",
   "metadata": {},
   "source": [
    "<a name='3'></a>\n",
    "## Matrix Convention and Broadcasting\n",
    "\n",
    "Mathematically, matrix multiplication is defined only if number of the columns of matrix $A$ is equal to the number of the rows of matrix $B$ (you can check again the definition in the secition [1](#1) and see that otherwise the dot products between rows and columns will not be defined). \n",
    "\n",
    "Thus, in the example above ([2](#2)), changing the order of matrices when performing the multiplication $BA$ will not work as the above rule does not hold anymore. You can check it by running the cells below - both of them will give errors."
   ]
  },
  {
   "cell_type": "code",
   "execution_count": 28,
   "id": "a0854ab2",
   "metadata": {},
   "outputs": [
    {
     "name": "stdout",
     "output_type": "stream",
     "text": [
      "matmul: Input operand 1 has a mismatch in its core dimension 0, with gufunc signature (n?,k),(k,m?)->(n?,m?) (size 3 is different from 2)\n"
     ]
    }
   ],
   "source": [
    "try:\n",
    "    np.matmul(B, A)\n",
    "except ValueError as err:\n",
    "    print(err)"
   ]
  },
  {
   "cell_type": "code",
   "execution_count": 29,
   "id": "bff976f8",
   "metadata": {},
   "outputs": [
    {
     "name": "stdout",
     "output_type": "stream",
     "text": [
      "matmul: Input operand 1 has a mismatch in its core dimension 0, with gufunc signature (n?,k),(k,m?)->(n?,m?) (size 3 is different from 2)\n"
     ]
    }
   ],
   "source": [
    "try:\n",
    "    B @ A\n",
    "except ValueError as err:\n",
    "    print(err)"
   ]
  },
  {
   "cell_type": "markdown",
   "id": "63417dc5",
   "metadata": {},
   "source": [
    "So when using matrix multiplication you will need to be very careful about the dimensions - the number of the columns in the first matrix should match the number of the rows in the second matrix. This is very important for your future understanding of Neural Networks and how they work. \n",
    "\n",
    "However, for multiplying of the vectors, `NumPy` has a shortcut. You can define two vectors $x$ and $y$ of the same size (which one can understand as two $3 \\times 1$ matrices). If you check the shape of the vector $x$, you can see that :"
   ]
  },
  {
   "cell_type": "markdown",
   "id": "c255930e",
   "metadata": {},
   "source": [
    "#  Eigenvalues and Eigenvectors"
   ]
  },
  {
   "cell_type": "markdown",
   "id": "dee3cdbc",
   "metadata": {},
   "source": [
    "### Finding Eigenvalues and Eigenvectors with Python"
   ]
  },
  {
   "cell_type": "markdown",
   "id": "08dbb3ba",
   "metadata": {},
   "source": [
    "In Python eigenvalues and eigenvectors can be found using the `NumPy` function `np.linalg.eig()`. It returns a tuple consisting of a vector and an array. The vector contains the eigenvalues. The array contains the corresponding eigenvectors, one eigenvector per column. The eigenvectors chosen are the normalized ones, so their norms are 1.\n",
    "\n",
    "With the following code you can find an eigenvalues and eigenvectors for the matrix $A$:"
   ]
  },
  {
   "cell_type": "code",
   "execution_count": 30,
   "id": "99c6a110",
   "metadata": {},
   "outputs": [
    {
     "data": {
      "text/plain": [
       "array([[2, 3],\n",
       "       [2, 1]])"
      ]
     },
     "execution_count": 30,
     "metadata": {},
     "output_type": "execute_result"
    }
   ],
   "source": [
    "A = np.array([[2, 3],[2, 1]])\n",
    "A\n"
   ]
  },
  {
   "cell_type": "code",
   "execution_count": 31,
   "id": "f1265cfc",
   "metadata": {},
   "outputs": [
    {
     "name": "stdout",
     "output_type": "stream",
     "text": [
      "Matrix A:\n",
      " [[2 3]\n",
      " [2 1]] \n",
      "\n",
      " Eigenvalues and eigenvectors of matrix A:\n",
      " EigResult(eigenvalues=array([ 4., -1.]), eigenvectors=array([[ 0.83205029, -0.70710678],\n",
      "       [ 0.5547002 ,  0.70710678]]))\n"
     ]
    }
   ],
   "source": [
    "A_eig = np.linalg.eig(A)\n",
    "\n",
    "print(\"Matrix A:\\n\", A, \"\\n\\n Eigenvalues and eigenvectors of matrix A:\\n\", A_eig)"
   ]
  },
  {
   "cell_type": "markdown",
   "id": "05535966",
   "metadata": {},
   "source": [
    "First eigenvector can be extrancted with the code `A_eig[1][:,0]` and second eigenvector with the code `A_eig[1][:,1]`. "
   ]
  },
  {
   "cell_type": "code",
   "execution_count": 32,
   "id": "752d28da",
   "metadata": {},
   "outputs": [
    {
     "name": "stdout",
     "output_type": "stream",
     "text": [
      "The first eigenvector: [0.83205029 0.5547002 ] \n",
      "\n",
      "The second eigenvector: [-0.70710678  0.70710678]\n"
     ]
    }
   ],
   "source": [
    "print('The first eigenvector:', A_eig[1][:,0],'\\n\\nThe second eigenvector:', A_eig[1][:,1] )"
   ]
  },
  {
   "cell_type": "code",
   "execution_count": null,
   "id": "142a0a10",
   "metadata": {},
   "outputs": [],
   "source": []
  }
 ],
 "metadata": {
  "kernelspec": {
   "display_name": "Python 3 (ipykernel)",
   "language": "python",
   "name": "python3"
  },
  "language_info": {
   "codemirror_mode": {
    "name": "ipython",
    "version": 3
   },
   "file_extension": ".py",
   "mimetype": "text/x-python",
   "name": "python",
   "nbconvert_exporter": "python",
   "pygments_lexer": "ipython3",
   "version": "3.12.3"
  }
 },
 "nbformat": 4,
 "nbformat_minor": 5
}
