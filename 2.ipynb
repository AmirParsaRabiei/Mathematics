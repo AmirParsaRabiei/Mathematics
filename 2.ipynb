{
 "cells": [
  {
   "cell_type": "code",
   "execution_count": 8,
   "metadata": {},
   "outputs": [
    {
     "name": "stdout",
     "output_type": "stream",
     "text": [
      "[ 1  3  5  7  9 11 13 15 17 19]\n",
      "====================\n",
      "[  0.  25.  50.  75. 100.]\n",
      "float64\n",
      "====================\n",
      "[  0  25  50  75 100]\n",
      "int64\n",
      "====================\n",
      "['hahaha :)']\n",
      "<U9\n",
      "====================\n",
      "[1 2 3 4 5 6]\n",
      "==========\n",
      "[[1 2 3]\n",
      " [4 5 6]]\n",
      "==========\n",
      "[[[1 2 3 4 5 6]]]\n",
      "====================\n",
      "3\n",
      "6\n",
      "6\n",
      "(1, 1, 6)\n"
     ]
    }
   ],
   "source": [
    "import numpy as np\n",
    "\n",
    "a = np.arange(1, 20, 2)\n",
    "print(a)\n",
    "\n",
    "print('='*20)\n",
    "b = np.linspace(0, 100, 5)\n",
    "print(b)\n",
    "print(b.dtype)\n",
    "print('='*20)\n",
    "b = np.linspace(0, 100, 5 , dtype=int)\n",
    "print(b)\n",
    "print(b.dtype)\n",
    "\n",
    "print('='*20)\n",
    "\n",
    "char_arr = np.array(['hahaha :)'])\n",
    "print(char_arr)\n",
    "print(char_arr.dtype)\n",
    "\n",
    "print('='*20)\n",
    "one_dim_arr = np.array([1,2,3,4,5,6])\n",
    "print(one_dim_arr)\n",
    "print('='*10)\n",
    "two_dim_arr = np.reshape(one_dim_arr, (2,3))\n",
    "print(two_dim_arr)\n",
    "print('='*10)\n",
    "three_dim_arr = np.reshape(one_dim_arr, (1,1,6))\n",
    "print(three_dim_arr)\n",
    "\n",
    "print('='*20)\n",
    "print(three_dim_arr.ndim)\n",
    "print(three_dim_arr.size)\n",
    "print(two_dim_arr.size)\n",
    "print(three_dim_arr.shape)"
   ]
  }
 ],
 "metadata": {
  "kernelspec": {
   "display_name": "Python 3",
   "language": "python",
   "name": "python3"
  },
  "language_info": {
   "codemirror_mode": {
    "name": "ipython",
    "version": 3
   },
   "file_extension": ".py",
   "mimetype": "text/x-python",
   "name": "python",
   "nbconvert_exporter": "python",
   "pygments_lexer": "ipython3",
   "version": "3.12.2"
  }
 },
 "nbformat": 4,
 "nbformat_minor": 2
}
